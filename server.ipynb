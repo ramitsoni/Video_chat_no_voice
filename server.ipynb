{
 "cells": [
  {
   "cell_type": "code",
   "execution_count": null,
   "id": "28b78937",
   "metadata": {},
   "outputs": [],
   "source": [
    "import socket\n",
    "import json\n",
    "import pickle\n",
    "import cv2\n",
    "\n",
    "cap = cv2.VideoCapture(0)\n",
    "s = socket.socket(socket.AF_INET,socket.SOCK_STREAM)\n",
    "ip=\"127.0.0.1\"\n",
    "port=1234\n",
    "\n",
    "s.bind((ip,port))\n",
    "s.listen()\n",
    "\n",
    "c , addr = s.accept()\n",
    "print(\"Connected to {}\".format(addr))\n",
    "while True:\n",
    "    ret , photo = cap.read()\n",
    "    ret, buffer = cv2.imencode('.jpg',photo)\n",
    "    bytedata = pickle.dumps(buffer)\n",
    "    c.send(bytedata)\n",
    "\n",
    "    r_data = c.recv(1000000)\n",
    "    \n",
    "    try:\n",
    "        data = pickle.loads(r_data)\n",
    "        data = cv2.imdecode(data,cv2.IMREAD_COLOR)\n",
    "        if data is not None :\n",
    "            cv2.imshow('server:',data)\n",
    "            if cv2.waitKey(10) == 13 :\n",
    "                break\n",
    "    except: \n",
    "        print(\"Waiting for the client!\")\n",
    "cv2.destroyAllWindows()"
   ]
  },
  {
   "cell_type": "code",
   "execution_count": null,
   "id": "bd80f258",
   "metadata": {},
   "outputs": [],
   "source": [
    "cap.release()"
   ]
  },
  {
   "cell_type": "code",
   "execution_count": null,
   "id": "21153578",
   "metadata": {},
   "outputs": [],
   "source": []
  }
 ],
 "metadata": {
  "kernelspec": {
   "display_name": "Python 3",
   "language": "python",
   "name": "python3"
  },
  "language_info": {
   "codemirror_mode": {
    "name": "ipython",
    "version": 3
   },
   "file_extension": ".py",
   "mimetype": "text/x-python",
   "name": "python",
   "nbconvert_exporter": "python",
   "pygments_lexer": "ipython3",
   "version": "3.8.8"
  }
 },
 "nbformat": 4,
 "nbformat_minor": 5
}
